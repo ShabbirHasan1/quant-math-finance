{
 "cells": [
  {
   "cell_type": "markdown",
   "metadata": {},
   "source": [
    "# Scripts for Final Exam"
   ]
  },
  {
   "cell_type": "markdown",
   "metadata": {},
   "source": [
    "## Index\n",
    "\n",
    "**Numerical Integration:** [(here)](#Numerical-Integration)  \n",
    "* Midpoint Rule\n",
    "* Trapezoidal Rule\n",
    "* Simpson's Rule  \n",
    "* Approximate vale of an integral given tolerance\n",
    "\n",
    "**Bonds:**  [(here)](#Bonds)\n",
    "* Bond price given zero rate curve\n",
    "* Bond price given instantaneous interest rate curve **[TODO]**\n",
    "* Price, Duration and Convexity of bond given yield\n",
    "* Bond yield\n",
    "* Boostrapping\n",
    "\n",
    "**Options:** [(here)](#Options)\n",
    "* Normal CDF\n",
    "* Black Scholes European\n",
    "* Implied Volatility\n",
    "* Implied Strike\n",
    "\n",
    "**Numerical Nonlinear Equations:** [(here)](#Numerical-Nonlinear-Equations) \n",
    "* Bisection Method **[FIX, DOESN'T WORK]**\n",
    "* Secant Method\n",
    "* Newton's Method\n",
    "\n",
    "**Previous Exams** [(here)](#Previous\n",
    "-Exams) \n",
    "* Fall 2016 \n",
    "\n",
    "**Examples:** [(here)](#Examples) \n",
    "* Numerical Integration\n",
    "* Bonds\n",
    "* Options\n",
    "* Numerical Nonlinear Equations\n",
    "\n",
    "**Miscelanea:**\n",
    "* Solve linear systems of equations\n",
    "* Greeks\n",
    "\n",
    "**TODOs:**\n",
    "* N-dim Newton's Method?\n",
    "* N-dim Approximate Newton's Method?"
   ]
  },
  {
   "cell_type": "markdown",
   "metadata": {},
   "source": [
    "## Imports"
   ]
  },
  {
   "cell_type": "code",
   "execution_count": 427,
   "metadata": {
    "collapsed": true
   },
   "outputs": [],
   "source": [
    "from __future__ import division\n",
    "import numpy as np\n",
    "import matplotlib.pyplot as plt\n",
    "import pandas as pd\n",
    "\n",
    "from functools import partial\n",
    "from math import log, exp, sqrt \n",
    "% matplotlib inline"
   ]
  },
  {
   "cell_type": "markdown",
   "metadata": {},
   "source": [
    "## Numerical Integration"
   ]
  },
  {
   "cell_type": "code",
   "execution_count": 428,
   "metadata": {
    "collapsed": true
   },
   "outputs": [],
   "source": [
    "def midpoint_rule(a,b,n, f_int_x):\n",
    "    '''\n",
    "    Inputs:\n",
    "        a: left endpoint of the integration interval\n",
    "        b: right endpoint of the integration interval\n",
    "        n: number of partition intervals\n",
    "        f_int_x: function evaluating f(x)\n",
    "        \n",
    "    Output:\n",
    "        I_midpoint: Midpoint Rule approximation of \n",
    "                    integral of f(x) from b to a\n",
    "    '''\n",
    "    h = (b-a)/n\n",
    "    I_midpoint = 0\n",
    "    for i in xrange(1,n+1):\n",
    "        I_midpoint = I_midpoint + f_int_x(a + (i - 1/2) * h)\n",
    "    I_midpoint = h * I_midpoint\n",
    "    return I_midpoint\n",
    "\n",
    "def trapezoidal_rule(a,b,n, f_int_x):\n",
    "    '''\n",
    "    Inputs:\n",
    "        a: left endpoint of the integration interval\n",
    "        b: right endpoint of the integration interval\n",
    "        n: number of partition intervals\n",
    "        f_int_x: function evaluating f(x)\n",
    "        \n",
    "    Output:\n",
    "        I_midpoint: Midpoint Rule approximation of \n",
    "                    integral of f(x) from b to a\n",
    "    '''\n",
    "    h = (b-a)/n\n",
    "    I_trap = f_int_x(a)/2 + f_int_x(b)/2\n",
    "    for i in xrange(1,n):\n",
    "        I_trap = I_trap + f_int_x(a + i * h)\n",
    "    I_trap = h * I_trap\n",
    "    return I_trap\n",
    "\n",
    "def simpson_rule(a,b,n, f_int_x):\n",
    "    '''\n",
    "    Inputs:\n",
    "        a: left endpoint of the integration interval\n",
    "        b: right endpoint of the integration interval\n",
    "        n: number of partition intervals\n",
    "        f_int_x: function evaluating f(x)\n",
    "        \n",
    "    Output:\n",
    "        I_simpson: Simpson's Rule approximation of \n",
    "                    integral of f(x) from b to a\n",
    "    '''\n",
    "    h = (b-a)/n\n",
    "    I_simpson = f_int_x(a)/6 + f_int_x(b)/6 \n",
    "    for i in xrange(1,n):\n",
    "        I_simpson = I_simpson + f_int_x(a + (i*h))/3\n",
    "    for i in xrange(1,n+1):\n",
    "        I_simpson = I_simpson + 2 * f_int_x(a + (i - 1/2) * h) / 3\n",
    "    \n",
    "    I_simpson = h * I_simpson\n",
    "    return I_simpson\n",
    "\n",
    "def integral_approx(tol, I_numerical_n):\n",
    "    ''' \n",
    "    Inputs:\n",
    "        tol: prescribed tolerance\n",
    "        I_numerical_n: result of the numerical integration rule\n",
    "        with n intervals; any integration rule can be used\n",
    "        \n",
    "    Outputs:\n",
    "        I_approx: approximation of integral of f(x) from a to b with tolerance tol\n",
    "    '''\n",
    "    n = 4\n",
    "    I_old = I_numerical_n(n=n)\n",
    "    n = 2*n\n",
    "    I_new = I_numerical_n(n=n)\n",
    "    int_results = []\n",
    "    while np.abs(I_new - I_old) > tol:\n",
    "        I_old  = I_new\n",
    "        n = 2*n\n",
    "        I_new = I_numerical_n(n=n)\n",
    "        int_results.append( (n,I_new) )\n",
    "    I_approx = I_new\n",
    "    return I_approx, int_results"
   ]
  },
  {
   "cell_type": "markdown",
   "metadata": {},
   "source": [
    "[Back to Index](#Index)"
   ]
  },
  {
   "cell_type": "markdown",
   "metadata": {},
   "source": [
    "## Bonds"
   ]
  },
  {
   "cell_type": "code",
   "execution_count": 526,
   "metadata": {
    "collapsed": true
   },
   "outputs": [],
   "source": [
    "def get_value_cash_flows(n, C, FV = 100):\n",
    "    ''' \n",
    "       Computes the value of the cash flows given constant coupon rate \"C\" in \"n\" periods \n",
    "       for a bond with face value \"FV\" \n",
    "    '''\n",
    "    \n",
    "    cash_flows = [C * FV,] *n\n",
    "    cash_flows[-1] += FV  # add principal at final cash flow \n",
    "    return cash_flows\n",
    "\n",
    "# Bond price given zero rate curve\n",
    "def risk_zero_curve(t):\n",
    "    return 0.015 + t/(100+np.sqrt(1+t**2))\n",
    "\n",
    "def bond_price(t_cash_flow,v_cash_flow):\n",
    "    ''' \n",
    "        Compute bond price from cash flows, coupon schedule and risk-free zero rate curve\n",
    "    '''\n",
    "    r_0_t = np.array([risk_zero_curve(x) for x in t_cash_flow])\n",
    "    t_cash_flow = np.array(t_cash_flow)  \n",
    "    disc = np.exp(-r_0_t * t_cash_flow)\n",
    "    return (disc * np.array(v_cash_flow)).sum()\n",
    "\n",
    "# Bond price given instantaneous interest rate curve\n",
    "# [TODO]\n",
    "\n",
    "# Price, Duration and Convexity of bond given yield\n",
    "def price_duration_convexity(n,t_cash_flow,v_cash_flow, y):\n",
    "    '''\n",
    "    Implementation of pseudocode from table 2.7 of the book \n",
    "    \"A Primer for the Mathematics of Financial Engineering\"\n",
    "        Inputs:\n",
    "            T: bond maturity\n",
    "            n: number of cash flows\n",
    "            t_cash_flow: vector of cash flows (of size n)\n",
    "            v_cash_flow: vector of cash flows (of size n)\n",
    "            y: yield of the bond\n",
    "            \n",
    "        Outputs:\n",
    "            B: price of the bond\n",
    "            D: duration of the bond\n",
    "            C: convexity of the bond\n",
    "    '''\n",
    "    B,D,C = 0,0,0\n",
    "    for i in xrange(n):\n",
    "        disc_i = np.exp(-t_cash_flow[i] * y)\n",
    "        B = B + v_cash_flow[i] * disc_i\n",
    "        D = D + t_cash_flow[i] * v_cash_flow[i] *  disc_i\n",
    "        C = C + t_cash_flow[i]**2 * v_cash_flow[i] *  disc_i\n",
    "    \n",
    "    D = D / B\n",
    "    C = C / B\n",
    "    return B,D,C\n",
    "\n",
    "\n",
    "# Bond yield\n",
    "def bond_yield_Newton(B, n, t_cash_flow, v_cash_flow , tol = 10**(-6)):\n",
    "    '''\n",
    "    Implementation of pseudocode from table 5.6 of the book \n",
    "    \"A Primer for the Mathematics of Financial Engineering\"\n",
    "    \n",
    "    Inputs:\n",
    "        B : price of the bond\n",
    "        n : number of cash flows\n",
    "        t_cash_flow : cash flow dates (vector of size n)\n",
    "        v_cash_flow : cash flows (vector of size n)\n",
    "        tol : tolerance for declaring convergence of Newton's method\n",
    "    \n",
    "    Output:\n",
    "        x_new : the yield of the bond\n",
    "    '''\n",
    "    x0 = 0.1 # initial guess: 10% yield\n",
    "    x_new = x0\n",
    "    x_old = x0 - 1\n",
    "    \n",
    "    # Use numpy arrays for vectorization\n",
    "    _v_cash_flow = np.array(v_cash_flow)\n",
    "    _t_cash_flow = np.array(t_cash_flow)\n",
    "    \n",
    "    while np.abs(x_new - x_old) > tol:\n",
    "        x_old = x_new\n",
    "        print round(x_new,6)\n",
    "        \n",
    "        numer = (_v_cash_flow * np.exp(-x_old * _t_cash_flow )).sum() - B\n",
    "        denom = (_t_cash_flow * _v_cash_flow * \n",
    "                     np.exp(-x_old * _t_cash_flow)).sum()\n",
    "        \n",
    "        x_new = x_old + numer / denom\n",
    "    return x_new\n",
    "\n",
    "# Boostrapping\n",
    "# [TODO]"
   ]
  },
  {
   "cell_type": "code",
   "execution_count": 527,
   "metadata": {},
   "outputs": [
    {
     "data": {
      "text/html": [
       "<div>\n",
       "<style>\n",
       "    .dataframe thead tr:only-child th {\n",
       "        text-align: right;\n",
       "    }\n",
       "\n",
       "    .dataframe thead th {\n",
       "        text-align: left;\n",
       "    }\n",
       "\n",
       "    .dataframe tbody tr th {\n",
       "        vertical-align: top;\n",
       "    }\n",
       "</style>\n",
       "<table border=\"1\" class=\"dataframe\">\n",
       "  <thead>\n",
       "    <tr style=\"text-align: right;\">\n",
       "      <th></th>\n",
       "      <th>Maturity_in_months</th>\n",
       "      <th>Coupon_Rate</th>\n",
       "      <th>Price</th>\n",
       "    </tr>\n",
       "  </thead>\n",
       "  <tbody>\n",
       "    <tr>\n",
       "      <th>0</th>\n",
       "      <td>6</td>\n",
       "      <td>0</td>\n",
       "      <td>99.0</td>\n",
       "    </tr>\n",
       "    <tr>\n",
       "      <th>1</th>\n",
       "      <td>12</td>\n",
       "      <td>4</td>\n",
       "      <td>102.0</td>\n",
       "    </tr>\n",
       "    <tr>\n",
       "      <th>2</th>\n",
       "      <td>36</td>\n",
       "      <td>4</td>\n",
       "      <td>103.5</td>\n",
       "    </tr>\n",
       "    <tr>\n",
       "      <th>3</th>\n",
       "      <td>60</td>\n",
       "      <td>4</td>\n",
       "      <td>109.0</td>\n",
       "    </tr>\n",
       "  </tbody>\n",
       "</table>\n",
       "</div>"
      ],
      "text/plain": [
       "   Maturity_in_months  Coupon_Rate  Price\n",
       "0                   6            0   99.0\n",
       "1                  12            4  102.0\n",
       "2                  36            4  103.5\n",
       "3                  60            4  109.0"
      ]
     },
     "execution_count": 527,
     "metadata": {},
     "output_type": "execute_result"
    }
   ],
   "source": [
    "# Boostrapping\n",
    "\n",
    "# Inputs: Maturity, Coupon Rate and Price for a set of bonds with different maturities\n",
    "# Steps: \n",
    "# 1) Solve for the interest rate for known rates\n",
    "# 2) If there is a gap in maturities, make x as unknown and explain the rest as linear combinations of the unkonwn\n",
    "\n",
    "# book data\n",
    "bdt =     pd.DataFrame( {'Maturity_in_months' : [6, 12, 36, 60],\n",
    "                        'Coupon_Rate' : [0, 4, 4, 4],\n",
    "                        'Price' : [99, 102, 103.5, 109]},\n",
    "                     columns = ['Maturity_in_months', 'Coupon_Rate', 'Price'])\n",
    "bdt"
   ]
  },
  {
   "cell_type": "code",
   "execution_count": 608,
   "metadata": {},
   "outputs": [
    {
     "name": "stdout",
     "output_type": "stream",
     "text": [
      "Iter/Imp rate r02: 0/0.05\n",
      "Iter/Imp rate r02: 1/0.0213652506371\n",
      "Iter/Imp rate r02: 2/0.0219396974048\n",
      "Iter/Imp rate r02: 3/0.0219442406988\n",
      "Iter/Imp rate r05: 0/0.05\n",
      "Iter/Imp rate r05: 1/0.0196424027359\n",
      "Iter/Imp rate r05: 2/0.0207640160695\n",
      "Iter/Imp rate r05: 3/0.0208007217958\n",
      "Iter/Imp rate r05: 4/0.020801826062\n",
      "0.020100671707\n",
      "0.0196026472935\n",
      "0.0207734606754\n",
      "0.0219442740573\n",
      "0.021753871579\n",
      "0.0215634691007\n",
      "0.0213730666225\n",
      "0.0211826641442\n",
      "0.020992261666\n",
      "0.0208018591877\n"
     ]
    }
   ],
   "source": [
    "# Bootstraping from book\n",
    "def get_implied_rate_r02( B,c,r_05,r_1,x0, tol = 10**(-6) ) :\n",
    "    '''\n",
    "    XXX\n",
    "    Semianual\n",
    "    '''\n",
    "    \n",
    "    r_15 = lambda x:  (r_1 + x)/2\n",
    "    r_2  = lambda x: x\n",
    "    \n",
    "    x_new = x0\n",
    "    x_old = x0-1\n",
    "    it = 0\n",
    "    while np.abs(x_new - x_old) > tol:\n",
    "        x_old = x_new\n",
    "        print 'Iter/Imp rate r02: {}/{}'.format(it,x_new)\n",
    "        it += 1\n",
    "        f =   ( c/2 * np.exp(-0.5 * r_05) + \n",
    "                c/2 * np.exp(-1 * r_1)    +\n",
    "                c/2 * np.exp(-1.5 * r_15(x_new)) +\n",
    "                (100 + c/2) * np.exp(-2 * r_2(x_new))-B)\n",
    "             \n",
    "        f_p = ( -1.5 * c/2 * np.exp(-1.5 * r_15(x_new)) +\n",
    "                -2 * (100 + c/2) * np.exp(-2 * r_2(x_new)) )\n",
    "        \n",
    "        x_new = (x_new - f/f_p)\n",
    "    return x_new\n",
    "\n",
    "\n",
    "def get_implied_rate_r05( B,c,r_05,r_1,r_15,r_2,x0, tol = 10**(-6) ) :\n",
    "    '''\n",
    "    XXX\n",
    "    Semianual\n",
    "    '''\n",
    "    # rates as a function by linear interpolation\n",
    "    r_25 = lambda x: (x + 5*r_2)/6\n",
    "    r_3  = lambda x: (x + 2*r_2)/3\n",
    "    r_35 = lambda x: (x + r_2)/2\n",
    "    r_4  = lambda x: (2*x + r_2)/3\n",
    "    r_45  = lambda x: (5*x + r_2)/6\n",
    "    r_5  = lambda x: x\n",
    "    \n",
    "    x_new = x0\n",
    "    x_old = x0-1\n",
    "    it = 0\n",
    "    while np.abs(x_new - x_old) > tol:\n",
    "        x_old = x_new\n",
    "        print 'Iter/Imp rate r05: {}/{}'.format(it,x_new)\n",
    "        it += 1\n",
    "        f =   ( c/2 * np.exp(-0.5 * r_05) + \n",
    "                c/2 * np.exp(-1 * r_1)    +\n",
    "                c/2 * np.exp(-1.5 * r_15) +\n",
    "                c/2 * np.exp(-2 * r_2) +\n",
    "                c/2 * np.exp(-2.5 * r_25(x_new)) +\n",
    "                c/2 * np.exp(-3 * r_3(x_new)) +\n",
    "                c/2 * np.exp(-3.5 * r_35(x_new)) +\n",
    "                c/2 * np.exp(-4 * r_4(x_new)) +\n",
    "                c/2 * np.exp(-4.5 * r_45(x_new)) +\n",
    "                (100 + c/2) * np.exp(-5 * r_5(x_new))-B)\n",
    "             \n",
    "        f_p = ( -2.5 * c/2 * np.exp(-2.5 * r_25(x_new)) +\n",
    "                -3 * c/2 * np.exp(-3 * r_3(x_new)) +\n",
    "                -3.5 * c/2 * np.exp(-3.5 * r_35(x_new)) +\n",
    "                -4 * c/2 * np.exp(-4 * r_4(x_new)) +\n",
    "                -4.5 * c/2 * np.exp(-4.5 * r_45(x_new)) + \n",
    "                -5 * (100 + c/2) * np.exp(-5 * r_5(x_new)) )\n",
    "               \n",
    "        x_new = (x_new - f/f_p)\n",
    "    return x_new\n",
    "\n",
    "# Replicating book\n",
    "# Find \"known\" rates\n",
    "# T = 6 months\n",
    "br_05 = (np.log(100 + 0/2)- np.log(99) )  / 0.5\n",
    "bdc_05 =   bdt.Coupon_Rate[1]/2 * np.exp(- 0.5 * br_05) #discounted coupon\n",
    "\n",
    "# T = 1 year\n",
    "br_1 =  (np.log(100 + bdt.Coupon_Rate[1]/2) - np.log(bdt.Price[1] - bdc_05))\n",
    "bdc_1 = bdt.Coupon_Rate[1]/2 * np.exp(- 1 * br_1)\n",
    "\n",
    "# T = 2 year\n",
    "br_2 = get_implied_rate_r02(bdt.Price[2], bdt.Coupon_Rate[2], br_05, br_1, 0.05 )\n",
    "bdc_2 = bdt.Coupon_Rate[2]/2 * np.exp(- 2 * br_2)\n",
    "\n",
    "# T = 1.5 year \n",
    "br_15 = (br_1 + br_2) /2 \n",
    "\n",
    "# T = 5 year\n",
    "br_5 = get_implied_rate_r05(bdt.Price[3], bdt.Coupon_Rate[3], br_05, br_1,br_15, br_2, 0.05 )\n",
    "bdc_5 = bdt.Coupon_Rate[3]/2 * np.exp(- 5 * br_5)\n",
    "\n",
    "# T = 2.5,3,3.5,4,4.5 year \n",
    "br_25 = (br_5 + 5*br_2)/6\n",
    "br_3  = (br_5 + 2*br_2)/3\n",
    "br_35 = (br_5 + br_2)/2\n",
    "br_4  = (2*br_5 + br_2)/3\n",
    "br_45 = (5*br_5 + br_2)/6\n",
    "\n",
    "\n",
    "print br_05\n",
    "print br_1\n",
    "print br_15\n",
    "print br_2 \n",
    "print br_25\n",
    "print br_3\n",
    "print br_35 \n",
    "print br_4\n",
    "print br_45\n",
    "print br_5 "
   ]
  },
  {
   "cell_type": "code",
   "execution_count": 529,
   "metadata": {},
   "outputs": [
    {
     "data": {
      "text/html": [
       "<div>\n",
       "<style>\n",
       "    .dataframe thead tr:only-child th {\n",
       "        text-align: right;\n",
       "    }\n",
       "\n",
       "    .dataframe thead th {\n",
       "        text-align: left;\n",
       "    }\n",
       "\n",
       "    .dataframe tbody tr th {\n",
       "        vertical-align: top;\n",
       "    }\n",
       "</style>\n",
       "<table border=\"1\" class=\"dataframe\">\n",
       "  <thead>\n",
       "    <tr style=\"text-align: right;\">\n",
       "      <th></th>\n",
       "      <th>Maturity_in_months</th>\n",
       "      <th>Coupon_Rate</th>\n",
       "      <th>Price</th>\n",
       "    </tr>\n",
       "  </thead>\n",
       "  <tbody>\n",
       "    <tr>\n",
       "      <th>0</th>\n",
       "      <td>6</td>\n",
       "      <td>0</td>\n",
       "      <td>97.5</td>\n",
       "    </tr>\n",
       "    <tr>\n",
       "      <th>1</th>\n",
       "      <td>12</td>\n",
       "      <td>5</td>\n",
       "      <td>100.0</td>\n",
       "    </tr>\n",
       "    <tr>\n",
       "      <th>2</th>\n",
       "      <td>36</td>\n",
       "      <td>5</td>\n",
       "      <td>102.0</td>\n",
       "    </tr>\n",
       "    <tr>\n",
       "      <th>3</th>\n",
       "      <td>60</td>\n",
       "      <td>6</td>\n",
       "      <td>104.0</td>\n",
       "    </tr>\n",
       "  </tbody>\n",
       "</table>\n",
       "</div>"
      ],
      "text/plain": [
       "   Maturity_in_months  Coupon_Rate  Price\n",
       "0                   6            0   97.5\n",
       "1                  12            5  100.0\n",
       "2                  36            5  102.0\n",
       "3                  60            6  104.0"
      ]
     },
     "execution_count": 529,
     "metadata": {},
     "output_type": "execute_result"
    }
   ],
   "source": [
    "## Use bootstraping to obtain a zero rate curve given the prices of the following semiannual coupon bonds\n",
    "\n",
    "#Inputs: Maturity, Coupon Rate and Price for a set of bonds with different maturities\n",
    "# exercise data\n",
    "dt =     pd.DataFrame( {'Maturity_in_months' : [6, 12, 36, 60],\n",
    "                        'Coupon_Rate' : [0, 5, 5, 6],\n",
    "                        'Price' : [97.5, 100, 102, 104]},\n",
    "                     columns = ['Maturity_in_months', 'Coupon_Rate', 'Price'])\n",
    "dt"
   ]
  },
  {
   "cell_type": "code",
   "execution_count": 423,
   "metadata": {},
   "outputs": [
    {
     "name": "stdout",
     "output_type": "stream",
     "text": [
      "0.05\n",
      "0.05\n"
     ]
    },
    {
     "data": {
      "text/plain": [
       "(0.050635615968580794,\n",
       " 0.049369600302812344,\n",
       " 0.047578269684896209,\n",
       " 0.045786939066980073,\n",
       " 0.04399560844906393,\n",
       " 0.042204277831147795,\n",
       " 0.044350710772029164,\n",
       " 0.046497143712910541,\n",
       " 0.04864357665379191,\n",
       " 0.05079000959467328)"
      ]
     },
     "execution_count": 423,
     "metadata": {},
     "output_type": "execute_result"
    }
   ],
   "source": [
    "def get_implied_rate_r03( B, c, r_05, r_1, x0 ):\n",
    "    '''\n",
    "    XXX\n",
    "    Semianual\n",
    "    '''\n",
    "\n",
    "    r_15 =  lambda x: 0.5/2*x + 1.5/2*r_1\n",
    "    r_2 =  lambda x: 1/2*x + 1/2*r_1\n",
    "    r_25 = lambda x: 1.5/2*x + 0.5/2*r_1\n",
    "    r_3 = lambda x: x\n",
    "    \n",
    "    x_new = x0\n",
    "    x_old = x0 - 1\n",
    "    it = 0\n",
    "    while np.abs(x_new - x_old) > 10**(-6):\n",
    "        x_old = x_new\n",
    "        print x_new\n",
    "        f = ( c/2*np.exp(-0.5 * r_05) +\n",
    "              c/2*np.exp(-1 * r_1) +\n",
    "              c/2*np.exp(-1.5 * r_15(x_new)) +\n",
    "              c/2*np.exp(-2 * r_2(x_new)) +\n",
    "              c/2*np.exp(-2.5 * r_25(x_new)) +\n",
    "              (100 + c/2)*np.exp(-3 * r_3(x_new)) - B )\n",
    "        \n",
    "        f_p = ( -1.5 * c/2 * np.exp(-1.5 * r_15(x_new)) + \n",
    "                -2 * c/2 * np.exp(-2 * r_2(x_new)) + \n",
    "                -2.5 * c/2 * np.exp(-2.5 * r_25(x_new)) +\n",
    "                -3 * (100 + c/2) * np.exp(-3 * r_3(x_new)) )\n",
    "    x_new = (x_new - f/f_p)\n",
    "    return x_new\n",
    "\n",
    "def get_implied_rate_r05( B, c, r_05, r_1, r_15, r_2, r_25, r_3, x0 ):\n",
    "    '''\n",
    "    XXX\n",
    "    Semianual\n",
    "    '''\n",
    "\n",
    "    r_35 =  lambda x: 0.5/2*x + 1.5/2*r_3\n",
    "    r_4  =  lambda x: 1/2*x + 1/2*r_3\n",
    "    r_45 =  lambda x: 1.5/2*x + 0.5/2*r_3\n",
    "    r_5  =  lambda x: x\n",
    "    \n",
    "    x_new = x0\n",
    "    x_old = x0 - 1\n",
    "    it = 0\n",
    "    while np.abs(x_new - x_old) > 10**(-6):\n",
    "        x_old = x_new\n",
    "        print x_new\n",
    "        f = ( c/2*np.exp(-0.5 * r_05) +\n",
    "              c/2*np.exp(-1 * r_1) +\n",
    "              c/2*np.exp(-1.5 * r_15) +\n",
    "              c/2*np.exp(-2 * r_2) +\n",
    "              c/2*np.exp(-2.5 * r_25) +\n",
    "              c/2*np.exp(-3 * r_3) +\n",
    "              c/2*np.exp(-3.5 * r_35(x_new)) +\n",
    "              c/2*np.exp(-4 * r_4(x_new)) +\n",
    "              c/2*np.exp(-4.5 * r_45(x_new)) +\n",
    "              (100 + c/2)*np.exp(-5 * r_5(x_new)) - B )\n",
    "        \n",
    "        f_p = ( -3.5 * c/2 * np.exp(-3.5 * r_35(x_new)) + \n",
    "                -4 * c/2 * np.exp(-4 * r_4(x_new)) + \n",
    "                -4.5 * c/2 * np.exp(-4.5 * r_45(x_new)) +\n",
    "                -5 * (100 + c/2) * np.exp(-5 * r_5(x_new)) )\n",
    "    x_new = (x_new - f/f_p)\n",
    "    return x_new## Use bootstraping to obtain a zero rate curve given the prices of the following semiannual coupon bonds\n",
    "\n",
    "#Inputs: Maturity, Coupon Rate and Price for a set of bonds with different maturities\n",
    "# exercise data\n",
    "dt =     pd.DataFrame( {'Maturity_in_months' : [6, 12, 36, 60],\n",
    "                        'Coupon_Rate' : [0, 5, 5, 6],\n",
    "                        'Price' : [97.5, 100, 102, 104]},\n",
    "                     columns = ['Maturity_in_months', 'Coupon_Rate', 'Price'])\n",
    "dt\n",
    "\n",
    "x0 = 0.05\n",
    "\n",
    "r_00 = 0.05 #overnight rate\n",
    "\n",
    "## t = 0.5\n",
    "B = dt.Price[0]\n",
    "c = dt.Coupon_Rate[0]\n",
    "t = dt.Maturity_in_months[0]/12\n",
    "r_05 = (np.log(100 + c/2*100) - np.log(B)) /t\n",
    "\n",
    "## t = 1\n",
    "B = dt.Price[1]\n",
    "c = dt.Coupon_Rate[1]\n",
    "t = dt.Maturity_in_months[1]/12\n",
    "r_1 = (np.log(100 + c/2) - np.log(B - c/2 * np.exp(-0.5*r_05)))\n",
    "\n",
    "## t = 3\n",
    "B = dt.Price[2]\n",
    "c = dt.Coupon_Rate[2]\n",
    "t = dt.Maturity_in_months[2]/12\n",
    "r_3 = get_implied_rate_r03(B,c,r_05,r_1,x0)\n",
    "\n",
    "# intermediate ts\n",
    "r_15 = lambda x: 0.5/2*x + 1.5/2 * r_1\n",
    "r_2 = lambda x: 1/2*x + 1/2 * r_1\n",
    "r_25 = lambda x: 1.5/2*x + 0.5/2 * r_1\n",
    "\n",
    "r_15 = r_15(r_3)\n",
    "r_2 = r_2(r_3)\n",
    "r_25 = r_25(r_3)\n",
    "\n",
    "## t = 5\n",
    "B = dt.Price[3]\n",
    "c = dt.Coupon_Rate[3]\n",
    "t = dt.Maturity_in_months[3]/12\n",
    "r_5 = get_implied_rate_r05(B,c,r_05,r_1,r_15,r_2,r_25,r_3,x0)\n",
    "\n",
    "## intermediate ts\n",
    "r_35 =  lambda x: 0.5/2*x + 1.5/2*r_3\n",
    "r_4  =  lambda x: 1/2*x + 1/2*r_3\n",
    "r_45 =  lambda x: 1.5/2*x + 0.5/2*r_3\n",
    "\n",
    "r_35 =  r_35(r_5)\n",
    "r_4 =  r_4(r_5)\n",
    "r_45 =  r_45(r_5)\n",
    "\n",
    "r_05, r_1, r_15, r_2, r_25, r_3, r_35, r_4, r_45, r_5"
   ]
  },
  {
   "cell_type": "markdown",
   "metadata": {},
   "source": [
    "### EXAM Boostrapping"
   ]
  },
  {
   "cell_type": "code",
   "execution_count": 615,
   "metadata": {},
   "outputs": [
    {
     "data": {
      "text/html": [
       "<div>\n",
       "<style>\n",
       "    .dataframe thead tr:only-child th {\n",
       "        text-align: right;\n",
       "    }\n",
       "\n",
       "    .dataframe thead th {\n",
       "        text-align: left;\n",
       "    }\n",
       "\n",
       "    .dataframe tbody tr th {\n",
       "        vertical-align: top;\n",
       "    }\n",
       "</style>\n",
       "<table border=\"1\" class=\"dataframe\">\n",
       "  <thead>\n",
       "    <tr style=\"text-align: right;\">\n",
       "      <th></th>\n",
       "      <th>Maturity_in_months</th>\n",
       "      <th>Coupon_Rate</th>\n",
       "      <th>Price</th>\n",
       "    </tr>\n",
       "  </thead>\n",
       "  <tbody>\n",
       "    <tr>\n",
       "      <th>0</th>\n",
       "      <td>12</td>\n",
       "      <td>5</td>\n",
       "      <td>102</td>\n",
       "    </tr>\n",
       "    <tr>\n",
       "      <th>1</th>\n",
       "      <td>24</td>\n",
       "      <td>7</td>\n",
       "      <td>107</td>\n",
       "    </tr>\n",
       "    <tr>\n",
       "      <th>2</th>\n",
       "      <td>48</td>\n",
       "      <td>9</td>\n",
       "      <td>120</td>\n",
       "    </tr>\n",
       "  </tbody>\n",
       "</table>\n",
       "</div>"
      ],
      "text/plain": [
       "   Maturity_in_months  Coupon_Rate  Price\n",
       "0                  12            5    102\n",
       "1                  24            7    107\n",
       "2                  48            9    120"
      ]
     },
     "execution_count": 615,
     "metadata": {},
     "output_type": "execute_result"
    }
   ],
   "source": [
    "dt =     pd.DataFrame( {'Maturity_in_months' : [12, 24, 48],\n",
    "                        'Coupon_Rate' : [5, 7, 9],\n",
    "                        'Price' : [102, 107, 120]},\n",
    "                     columns = ['Maturity_in_months', 'Coupon_Rate', 'Price'])\n",
    "dt"
   ]
  },
  {
   "cell_type": "code",
   "execution_count": 623,
   "metadata": {
    "collapsed": true
   },
   "outputs": [],
   "source": [
    "r_00 = 0.03\n",
    "def get_implied_rate_r01( B, c, r_00, x0=0.05):\n",
    "    '''\n",
    "    XXX\n",
    "    Semianual\n",
    "    '''\n",
    "    r_05 = lambda x: (r_00 + x)/2\n",
    "    r_1 = lambda x: x\n",
    "    \n",
    "    x_new = x0\n",
    "    x_old = x0 - 1\n",
    "    it = 0\n",
    "    while np.abs(x_new - x_old) > 10**(-6):\n",
    "        x_old = x_new\n",
    "        print x_new\n",
    "        f = ( c/2*np.exp(-0.5 * r_05(x_new)) +\n",
    "            (100 + c/2)*np.exp(-1 * r_1(x_new)) - B )\n",
    "        \n",
    "        f_p = ( -0.5 * c/2 * np.exp(-0.5 * r_05(x_new)) + \n",
    "                -1 * (100 + c/2) * np.exp(-1 * r_1(x_new)))\n",
    "    x_new = (x_new - f/f_p)\n",
    "    return x_new\n",
    "\n"
   ]
  },
  {
   "cell_type": "code",
   "execution_count": 635,
   "metadata": {},
   "outputs": [
    {
     "name": "stdout",
     "output_type": "stream",
     "text": [
      "0.05\n"
     ]
    },
    {
     "data": {
      "text/plain": [
       "(0.029625418733122695, 0.029250837466245391)"
      ]
     },
     "execution_count": 635,
     "metadata": {},
     "output_type": "execute_result"
    }
   ],
   "source": [
    "B = dt.Price[0]\n",
    "c = dt.Coupon_Rate[0]\n",
    "t = dt.Maturity_in_months[0]/12\n",
    "r_1 = get_implied_rate_r01(B,c,r_00) \n",
    "\n",
    "\n",
    "r_05 = lambda x: (r_00 + x)/2\n",
    "r_1\n",
    "r_05 = r_05(r_1)\n",
    "r_05, r_1"
   ]
  },
  {
   "cell_type": "code",
   "execution_count": 632,
   "metadata": {
    "collapsed": true
   },
   "outputs": [],
   "source": [
    "def get_implied_rate_r02( B, c, r_05, r_1, x0=0.05 ):\n",
    "    '''\n",
    "    XXX\n",
    "    Semianual\n",
    "    '''\n",
    "\n",
    "    r_15 =  lambda x: (r_1 + x)/2\n",
    "    r_2 =  lambda x: x\n",
    "    \n",
    "    x_new = x0\n",
    "    x_old = x0 - 1\n",
    "    it = 0\n",
    "    while np.abs(x_new - x_old) > 10**(-6):\n",
    "        x_old = x_new\n",
    "        print x_new\n",
    "        f = ( c/2*np.exp(-0.5 * r_05) +\n",
    "              c/2*np.exp(-1 * r_1) +\n",
    "              c/2*np.exp(-1.5 * r_15(x_new)) +\n",
    "              (100 + c/2)*np.exp(-2 * r_2(x_new) - B) )\n",
    "        \n",
    "        f_p = ( -1.5 * c/2 * np.exp(-1.5 * r_15(x_new)) + \n",
    "                -2 *  (100 + c/2)  * np.exp(-2 * r_2(x_new)) )\n",
    "    x_new = (x_new - f/f_p)\n",
    "    return x_new"
   ]
  },
  {
   "cell_type": "code",
   "execution_count": 636,
   "metadata": {},
   "outputs": [
    {
     "name": "stdout",
     "output_type": "stream",
     "text": [
      "0.05\n"
     ]
    }
   ],
   "source": [
    "B = dt.Price[1]\n",
    "c = dt.Coupon_Rate[1]\n",
    "t = dt.Maturity_in_months[1]/12\n",
    "r_2 = get_implied_rate_r02(B, c, r_05, r_1)\n"
   ]
  },
  {
   "cell_type": "code",
   "execution_count": 639,
   "metadata": {},
   "outputs": [
    {
     "data": {
      "text/plain": [
       "(0.066012300351458914, 0.10277376323667245)"
      ]
     },
     "execution_count": 639,
     "metadata": {},
     "output_type": "execute_result"
    }
   ],
   "source": [
    "r_15 = (r_1+r_2)/2\n",
    "r_15,r_2"
   ]
  },
  {
   "cell_type": "code",
   "execution_count": 640,
   "metadata": {
    "collapsed": true
   },
   "outputs": [],
   "source": [
    "def get_implied_rate_r04( B, c, r_05, r_1,r_15, r_2, x0=0.05 ):\n",
    "    '''\n",
    "    XXX\n",
    "    Semianual\n",
    "    '''\n",
    "\n",
    "    r_25 =  lambda x: (r_2/4 + 3*x/4)\n",
    "    r_3 =  lambda x: (r_2+x)/2\n",
    "    r_35 =  lambda x: (3*r_2/4 + x/4)\n",
    "    r_4 =  lambda x: x\n",
    "    \n",
    "    x_new = x0\n",
    "    x_old = x0 - 1\n",
    "    it = 0\n",
    "    while np.abs(x_new - x_old) > 10**(-6):\n",
    "        x_old = x_new\n",
    "        print x_new\n",
    "        f = ( c/2*np.exp(-0.5 * r_05) +\n",
    "              c/2*np.exp(-1 * r_1) +\n",
    "              c/2*np.exp(-1.5 * r_15) +\n",
    "              c/2*np.exp(-2 * r_2) +\n",
    "              c/2*np.exp(-2.5 * r_25(x_new)) +\n",
    "              c/2*np.exp(-3 * r_3(x_new)) +\n",
    "              c/2*np.exp(-3.5 * r_35(x_new)) +\n",
    "              (100 + c/2)*np.exp(-4 * r_4(x_new) - B) )\n",
    "        \n",
    "        f_p = ( -2.5 * c/2 * np.exp(-2.5 * r_25(x_new)) + \n",
    "                -3 * c/2 * np.exp(-1.5 * r_3(x_new)) + \n",
    "                -3.5 * c/2 * np.exp(-1.5 * r_35(x_new)) + \n",
    "                -4 *  (100 + c/2)  * np.exp(-2 * r_4(x_new)) )\n",
    "    x_new = (x_new - f/f_p)\n",
    "    return x_new"
   ]
  },
  {
   "cell_type": "code",
   "execution_count": 643,
   "metadata": {},
   "outputs": [
    {
     "name": "stdout",
     "output_type": "stream",
     "text": [
      "0.05\n"
     ]
    },
    {
     "data": {
      "text/plain": [
       "0.11588749567746298"
      ]
     },
     "execution_count": 643,
     "metadata": {},
     "output_type": "execute_result"
    }
   ],
   "source": [
    "B = dt.Price[2]\n",
    "c = dt.Coupon_Rate[2]\n",
    "t = dt.Maturity_in_months[2]/12\n",
    "r_4 = get_implied_rate_r04(B, c, r_05, r_1,r_15,r_2)\n",
    "r_4"
   ]
  },
  {
   "cell_type": "code",
   "execution_count": 646,
   "metadata": {},
   "outputs": [
    {
     "data": {
      "text/plain": [
       "0.11260906256726536"
      ]
     },
     "execution_count": 646,
     "metadata": {},
     "output_type": "execute_result"
    }
   ],
   "source": [
    "r_2/4 + 3/4*r_4"
   ]
  },
  {
   "cell_type": "code",
   "execution_count": 647,
   "metadata": {},
   "outputs": [
    {
     "data": {
      "text/plain": [
       "0.10933062945706772"
      ]
     },
     "execution_count": 647,
     "metadata": {},
     "output_type": "execute_result"
    }
   ],
   "source": [
    "r_2/2 + r_4/2"
   ]
  },
  {
   "cell_type": "code",
   "execution_count": null,
   "metadata": {
    "collapsed": true
   },
   "outputs": [],
   "source": [
    "r_2/2 + r_4/4"
   ]
  },
  {
   "cell_type": "code",
   "execution_count": 648,
   "metadata": {},
   "outputs": [
    {
     "data": {
      "text/plain": [
       "0.10605219634687009"
      ]
     },
     "execution_count": 648,
     "metadata": {},
     "output_type": "execute_result"
    }
   ],
   "source": [
    "r_2*3/4 + 1/4*r_4"
   ]
  },
  {
   "cell_type": "markdown",
   "metadata": {},
   "source": [
    "[Back to Index](#Index)"
   ]
  },
  {
   "cell_type": "markdown",
   "metadata": {},
   "source": [
    "## Options"
   ]
  },
  {
   "cell_type": "code",
   "execution_count": 496,
   "metadata": {
    "collapsed": true
   },
   "outputs": [],
   "source": [
    "# Normal CDF\n",
    "def cum_dist_normal_approx(t):\n",
    "    ''' \n",
    "    Input:\n",
    "        t : real number\n",
    "    Output:\n",
    "        nn: \n",
    "    '''\n",
    "    z = np.abs(t)\n",
    "    y = 1/(1+0.2316419*z)\n",
    "    a1 = 0.319381530\n",
    "    a2 = -0.356563782\n",
    "    a3 = 1.781477937\n",
    "    a4 = -1.821255978\n",
    "    a5 = 1.330274429\n",
    "    \n",
    "    m = 1 - np.exp(-t**2/2) * (a1 * y + a2  * y**2 + a3 * y**3 + a4 * y**4 + a5 * y**5) / np.sqrt(2*np.pi)\n",
    "    nn = m if t>0 else 1-m\n",
    "    return nn\n",
    "\n",
    "def N(t,n,tol):\n",
    "    def e_exp(x):\n",
    "        return np.exp(- x**2/2)\n",
    "    def I_numerical_simp_f_e_exp(n):\n",
    "        return simpson_rule(a = 0, b = t, n = n, f_int_x= e_exp)\n",
    "    int_e_exp, int_results  = integral_approx(tol, I_numerical_simp_f_e_exp)\n",
    "    return 0.5 + 1/ np.sqrt( 2 * np.pi) * int_e_exp, int_results\n",
    "\n",
    "# Black Scholes European\n",
    "def european_bsm_value( S0, K, T, r, sigma, option_type = 'call',q = 0 ):\n",
    "    ''' Valuation of European call option in BSM model.\n",
    "    Analytical formula.\n",
    "    \n",
    "    Parameters\n",
    "    ==========\n",
    "    option_type :  string\n",
    "        call/put\n",
    "    S0 : float\n",
    "        initial stock/index level\n",
    "    K : float\n",
    "        strike price\n",
    "    T : float\n",
    "        maturity date (in year fractions)\n",
    "    r : float\n",
    "        constant risk-free short rate\n",
    "    sigma : float\n",
    "        volatility factor in diffusion term\n",
    "    \n",
    "    Returns\n",
    "    =======\n",
    "    value : float\n",
    "        present value of the European call option\n",
    "    '''\n",
    "    from math import log, sqrt, exp\n",
    "    from scipy import stats\n",
    "    \n",
    "    if option_type not in ['call','put']:\n",
    "        print  'Invalid option_type, input should be \"call\" or \"put\"}'\n",
    "        return None\n",
    "    \n",
    "    S0 = float(S0)\n",
    "    d1 = (log(S0) - log(K) + (r - q + 0.5 * sigma ** 2) * T) / (sigma * sqrt(T))\n",
    "    d2 = d1 - sigma * sqrt(T)\n",
    "    C = (S0 * exp(-q * T) * cum_dist_normal(d1)\n",
    "         - K * exp(-r * T) * cum_dist_normal(d2))\n",
    "    P = (K * exp(-r * T) * cum_dist_normal(-d2)  \n",
    "         - S0 * exp(-q * T) * cum_dist_normal(-d1))\n",
    "    if option_type == 'call':\n",
    "        return C\n",
    "    if option_type == 'put':\n",
    "        return P\n",
    "\n",
    "# Alternative implementation using Simpson\n",
    "def european_bsm_Simpson_value( S0, K, T, r, sigma, option_type = 'call',q = 0 ):\n",
    "    ''' Valuation of European call option in BSM model.\n",
    "    Analytical formula.\n",
    "    \n",
    "    Parameters\n",
    "    ==========\n",
    "    option_type :  string\n",
    "        call/put\n",
    "    S0 : float\n",
    "        initial stock/index level\n",
    "    K : float\n",
    "        strike price\n",
    "    T : float\n",
    "        maturity date (in year fractions)\n",
    "    r : float\n",
    "        constant risk-free short rate\n",
    "    sigma : float\n",
    "        volatility factor in diffusion term\n",
    "    \n",
    "    Returns\n",
    "    =======\n",
    "    value : float\n",
    "        present value of the European call option\n",
    "    '''\n",
    "    from math import log, sqrt, exp\n",
    "    from scipy import stats\n",
    "    \n",
    "    if option_type not in ['call','put']:\n",
    "        print  'Invalid option_type, input should be \"call\" or \"put\"}'\n",
    "        return None\n",
    "    \n",
    "    S0 = float(S0)\n",
    "    d1 = (log(S0) - log(K) + (r - q + 0.5 * sigma ** 2) * T) / (sigma * sqrt(T))\n",
    "    d2 = d1 - sigma * sqrt(T)\n",
    "    C = (S0 * exp(-q * T) * N(t = d1, n = 4, tol = 10**(-12))[0]\n",
    "         - K * exp(-r * T) * N(t = d2, n = 4, tol = 10**(-12))[0])\n",
    "    P = (K * exp(-r * T) * N(t = -d2, n = 4, tol = 10**(-12))[0]  \n",
    "         - S0 * exp(-q * T) * N(t = -d1, n = 4, tol = 10**(-12))[0])\n",
    "    if option_type == 'call':\n",
    "        return C\n",
    "    if option_type == 'put':\n",
    "        return P\n",
    "    \n",
    "def european_call_bsm_approx(S0, K, T, r, sigma,q = 0 ):\n",
    "    return sigma * S0 * np.sqrt(T/(2*np.pi))  * (1- (r+q)*T/2) + (r-q)*T*S/2\n",
    "    \n",
    "# Implied Volatility\n",
    "def implied_vol_Newton( C, S, K, T, q, r, tol, x0):\n",
    "    '''\n",
    "    Inputs \n",
    "        C : price of the call option\n",
    "        S : spot price of the underlying asset\n",
    "        K : strike price of the option\n",
    "        T : maturity of the option\n",
    "        q : dividend yield of the uderlying asset\n",
    "        r : risk-free constant rate\n",
    "        tol : tolerance for declaring convergence of Newton's method\n",
    "        x0: initial guess\n",
    "        f_BS : Black-Scholes value fo a call given volatility\n",
    "        vega_BS : vega of the call given volatility\n",
    "        \n",
    "    \n",
    "    Output: implied volatility\n",
    "    '''\n",
    "    x_new = x0\n",
    "    x_old = x0-1\n",
    "    it = 0\n",
    "    while np.abs(x_new - x_old) > tol:\n",
    "        x_old = x_new\n",
    "        print x_new\n",
    "        x_new = (x_new - (european_bsm_value( S, K, T, r, x_new, option_type = 'call',q = q ) - C) \n",
    "                 / bsm_vega(S,K,T,r,q,x_new))\n",
    "    return x_new\n",
    "\n",
    "# Implied Strike\n",
    "from scipy.stats import norm\n",
    "\n",
    "def DeltaBSCall(S, K, T, q, r, sigma):\n",
    "    d1 = (np.log(S/K) + (r - q + sigma**2/2)*T) / (sigma*np.sqrt(T))\n",
    "    return np.exp(-(q*T)) * norm.cdf(d1)\n",
    "\n",
    "def DeltaDerivK(S, K, T, q, r, sigma):\n",
    "    d1 = (np.log(S/K) + (r - q + sigma**2/2)*T) / (sigma*np.sqrt(T))\n",
    "    num = - np.exp(-(q*T + d1**2/2) )\n",
    "    denom = K * sigma * np.sqrt(2 * np.pi * T)\n",
    "    return num / denom\n",
    "\n",
    "def implied_strike_Newton(S, T, q, r, sigma, Delta, tol, x0):\n",
    "    '''\n",
    "    Inputs:\n",
    "        S : spot price of the underlying asset\n",
    "        T : time to expiration\n",
    "        q : dividend yield of the underlying security\n",
    "        r : risk-free constant rate\n",
    "        sigma : volatility\n",
    "        Delta : required delta\n",
    "        tol : tolerance for declaring convergence of Newton's method\n",
    "        x0 : initial guess\n",
    "    '''\n",
    "    \n",
    "    x_new = x0\n",
    "    x_old = x0 - 10\n",
    "    while np.abs( x_new - x_old) > tol:\n",
    "        x_old = x_new\n",
    "        print x_new\n",
    "        f = DeltaBSCall(S, x_new, T, q, r, sigma) - Delta\n",
    "        f_p = DeltaDerivK(S, x_new, T, q, r, sigma)\n",
    "        x_new = (x_new -  f/f_p)\n",
    "    return x_new"
   ]
  },
  {
   "cell_type": "markdown",
   "metadata": {},
   "source": [
    "[Back to Index](#Index)"
   ]
  },
  {
   "cell_type": "markdown",
   "metadata": {},
   "source": [
    "## Numerical Nonlinear Equations"
   ]
  },
  {
   "cell_type": "code",
   "execution_count": 497,
   "metadata": {},
   "outputs": [
    {
     "name": "stdout",
     "output_type": "stream",
     "text": [
      "1.32974624634\n"
     ]
    }
   ],
   "source": [
    "def fn(x):\n",
    "    return x**3 + 5*x - 9\n",
    "def bisection( eq, segment, app = 0.3 ):\n",
    "    a, b = segment['a'], segment['b']\n",
    "    Fa, Fb = eq(a), eq(b)\n",
    "    if Fa * Fb > 0:\n",
    "        raise Exception('No change of sign - bisection not possible')   \n",
    "    while( b - a > app ): \n",
    "        x = ( a + b ) / 2.0\n",
    "        f = eq(x)\n",
    "        if f * Fa > 0: a = x\n",
    "        else: b = x  \n",
    "    return x\n",
    " #test it\n",
    "print bisection(fn,{'a':0,'b':5}, 0.00003) # => 1.32974624634"
   ]
  },
  {
   "cell_type": "code",
   "execution_count": 498,
   "metadata": {
    "collapsed": true
   },
   "outputs": [],
   "source": [
    "# Bisection Method\n",
    "def bisec_method( a, b, f, tol_int = 10**(-6), tol_approx = 10**(-9)):\n",
    "    '''\n",
    "    Input\n",
    "        a : left endpoint of the initial interval\n",
    "        b : right endpoint of the initial interval\n",
    "        f : given function\n",
    "        tol_int : largest admissible size of active interval when solution is found \n",
    "        tol_approx : largest admissible value of |f(x)| when solution is found\n",
    "        \n",
    "    Output: approximate solution for f(x) = 0\n",
    "    '''\n",
    "    x_L = a\n",
    "    x_R  = b\n",
    "    \n",
    "    if f(x_L) * f(x_R) > 0:\n",
    "        raise Exception('No change of sign - bisection not possible')   \n",
    "    \n",
    "    while (max( np.abs(f(x_L)), np.abs(f(x_R))) > tol_approx) and ((x_R - x_L) > tol_int):\n",
    "        x_M = (x_L + x_R) / 2\n",
    "        print (x_L , x_R)\n",
    "        print max( np.abs(f(x_L)), np.abs(f(x_R)))\n",
    "        if f(x_L * f(x_M)) < 0: \n",
    "            x_R = x_M # active interval [x_L, x_M]\n",
    "        else:\n",
    "            x_L = x_M\n",
    "    return x_M\n",
    "\n",
    "# Secant Method\n",
    "def secant_method(xm1, x0, f, tol_approx = 10**(-6), tol_consec = 10**(-9) ):\n",
    "    '''\n",
    "    Input:\n",
    "        xm1 and x0 : intial guesses\n",
    "        f : given function\n",
    "        tol_approx : largest admissible value of |f(x)| when solution is found\n",
    "        tol_consec : largest admissible distance between  two consecutive approximations when solution is found\n",
    "    Output:\n",
    "        x_new :  approximate solution for f(x) = 0\n",
    "\n",
    "    '''\n",
    "    x_new  =  x0\n",
    "    x_old  =  xm1\n",
    "    \n",
    "    while (np.abs(f(x_new)) > tol_approx) or (np.abs(x_new - x_old) > tol_consec):\n",
    "        x_oldest = x_old\n",
    "        x_old = x_new\n",
    "        x_new = x_old - f(x_old) * (x_old - x_oldest) / (f(x_old) - f(x_oldest))\n",
    "    \n",
    "    return x_new\n",
    "\n",
    "# Newton's Method\n",
    "def newtons_method(f, f_deriv, x0, tol_approx = 10**(-6), tol_consec = 10**(-9), max_wait_secs = 10):\n",
    "    '''\n",
    "    Input:\n",
    "        x0 : intial guesses\n",
    "        f : given function\n",
    "        f_deriv : derivative function of f\n",
    "        tol_approx : largest admissible value of |f(x)| when solution is found\n",
    "        tol_consec : largest admissible distance between two consecutive approximations when solution is found\n",
    "    Output:\n",
    "        x_new :  approximate solution for f(x) = 0\n",
    "    '''\n",
    "    import datetime\n",
    "    start = datetime.datetime.now()\n",
    "    \n",
    "    x_new = x0\n",
    "    x_old = x0-1\n",
    "    \n",
    "    while (np.abs(f(x_new)) > tol_approx) or (np.abs(x_new - x_old) > tol_consec):\n",
    "        x_old = x_new\n",
    "        x_new = x_old - f(x_old)/f_deriv(x_old)\n",
    "        \n",
    "        \n",
    "        stop = datetime.datetime.now()\n",
    "        elapsed = stop - start\n",
    "        if elapsed > datetime.timedelta(seconds = max_wait_secs):\n",
    "            break\n",
    "    return x_new"
   ]
  },
  {
   "cell_type": "markdown",
   "metadata": {},
   "source": [
    "[Back to Index](#Index)"
   ]
  },
  {
   "cell_type": "markdown",
   "metadata": {},
   "source": [
    "## Examples"
   ]
  },
  {
   "cell_type": "markdown",
   "metadata": {},
   "source": [
    "#### Numerical integration"
   ]
  },
  {
   "cell_type": "code",
   "execution_count": 253,
   "metadata": {},
   "outputs": [
    {
     "data": {
      "text/plain": [
       "(0.88278894853972789, 0.88061863412453933, 0.88206551040133163)"
      ]
     },
     "execution_count": 253,
     "metadata": {},
     "output_type": "execute_result"
    }
   ],
   "source": [
    "_f = lambda x: np.exp(-x**2)\n",
    "a,b,n = 0, 2, 4\n",
    "midpoint_rule(a,b,n,_f), trapezoidal_rule(a,b,n,_f), simpson_rule(a,b,n,_f)"
   ]
  },
  {
   "cell_type": "code",
   "execution_count": 254,
   "metadata": {},
   "outputs": [
    {
     "name": "stdout",
     "output_type": "stream",
     "text": [
      "0.880618634125\n"
     ]
    }
   ],
   "source": [
    "trap_n = partial(trapezoidal_rule,a=0,b=2,f_int_x = _f)\n",
    "print(trap_n(n=n))"
   ]
  },
  {
   "cell_type": "code",
   "execution_count": 255,
   "metadata": {},
   "outputs": [
    {
     "name": "stdout",
     "output_type": "stream",
     "text": [
      "0.882065510401\n"
     ]
    }
   ],
   "source": [
    "simp_n = partial(simpson_rule,a=0,b=2,f_int_x = _f)\n",
    "print(simp_n(n=n))"
   ]
  },
  {
   "cell_type": "code",
   "execution_count": 256,
   "metadata": {},
   "outputs": [
    {
     "data": {
      "text/plain": [
       "(0.88208138688065485, [(16, 0.88208132864635647), (32, 0.88208138688065485)])"
      ]
     },
     "execution_count": 256,
     "metadata": {},
     "output_type": "execute_result"
    }
   ],
   "source": [
    "integral_approx(10**(-7), simp_n)"
   ]
  },
  {
   "cell_type": "markdown",
   "metadata": {},
   "source": [
    "#### Bonds"
   ]
  },
  {
   "cell_type": "code",
   "execution_count": 257,
   "metadata": {},
   "outputs": [
    {
     "data": {
      "text/plain": [
       "108.81262593572077"
      ]
     },
     "execution_count": 257,
     "metadata": {},
     "output_type": "execute_result"
    }
   ],
   "source": [
    "C = 0.08\n",
    "y = 0.09\n",
    "t_cash_flow = [3/12, 6/12, 9/12, 12/12, 15/12, 18/12, 21/12, 24/12]\n",
    "n = len(t_cash_flow)\n",
    "v_cash_flow = get_value_cash_flows(n, C/4)\n",
    "\n",
    "# Bond price given zero rate curve\n",
    "def risk_zero_curve(t):\n",
    "    return 0.015 + t/(100+np.sqrt(1+t**2))\n",
    "\n",
    "bond_price(t_cash_flow, v_cash_flow)"
   ]
  },
  {
   "cell_type": "code",
   "execution_count": 258,
   "metadata": {},
   "outputs": [
    {
     "data": {
      "text/plain": [
       "0.034077938581821031"
      ]
     },
     "execution_count": 258,
     "metadata": {},
     "output_type": "execute_result"
    }
   ],
   "source": [
    "# Yield given price and cash flows \n",
    "yld = bond_yield_Newton(bond_price(t_cash_flow,v_cash_flow),\n",
    "                  n, t_cash_flow, v_cash_flow , tol = 10**(-6))\n",
    "yld"
   ]
  },
  {
   "cell_type": "code",
   "execution_count": 259,
   "metadata": {},
   "outputs": [
    {
     "name": "stdout",
     "output_type": "stream",
     "text": [
      "Yield: 0.03408\n",
      "Modified Duration: 1.87457\n",
      "Convexity: 3.65587\n"
     ]
    }
   ],
   "source": [
    "# Price, Duration and Convexity of bond given yield\n",
    "_, mod_dur, convxty  = price_duration_convexity(n,t_cash_flow,v_cash_flow, yld)\n",
    "print 'Yield: {}'.format(round(yld,5))\n",
    "print 'Modified Duration: {}'.format(round(mod_dur,5))\n",
    "print 'Convexity: {}'.format(round(convxty,5))"
   ]
  },
  {
   "cell_type": "code",
   "execution_count": 260,
   "metadata": {},
   "outputs": [
    {
     "name": "stdout",
     "output_type": "stream",
     "text": [
      "Bond Price: 98.006\n",
      "Bond Duration: 1.866\n",
      "Bond Convexity: 3.635\n"
     ]
    }
   ],
   "source": [
    "B, D, convexity = price_duration_convexity(n,t_cash_flow,v_cash_flow,y)\n",
    "print 'Bond Price: {}'.format(round(B,3))\n",
    "print 'Bond Duration: {}'.format(round(D,3))\n",
    "print 'Bond Convexity: {}'.format(round(convexity,3))"
   ]
  },
  {
   "cell_type": "markdown",
   "metadata": {},
   "source": [
    "#### Options"
   ]
  },
  {
   "cell_type": "code",
   "execution_count": 261,
   "metadata": {
    "scrolled": true
   },
   "outputs": [
    {
     "name": "stdout",
     "output_type": "stream",
     "text": [
      "30\n",
      "30.4373148169\n",
      "30.4390644562\n"
     ]
    },
    {
     "data": {
      "text/plain": [
       "30.439064505336926"
      ]
     },
     "execution_count": 261,
     "metadata": {},
     "output_type": "execute_result"
    }
   ],
   "source": [
    "#Example: find the strike at which the Delta of a 3 months call on this asset is 0.5. Tol = 10^-6\n",
    "implied_strike_Newton(S=30, T=3/12, q=0.01, r=0.025, sigma=0.3, Delta = 0.5, tol=10**(-6), x0 = 30)"
   ]
  },
  {
   "cell_type": "markdown",
   "metadata": {},
   "source": [
    "#### Numerical Nonlinear Equations"
   ]
  },
  {
   "cell_type": "code",
   "execution_count": 262,
   "metadata": {},
   "outputs": [
    {
     "data": {
      "text/plain": [
       "(-2.3166247903554, 4.3166247903554)"
      ]
     },
     "execution_count": 262,
     "metadata": {},
     "output_type": "execute_result"
    },
    {
     "data": {
      "image/png": "[encoded data removed]",
      "text/plain": [
       "<matplotlib.figure.Figure at 0x11d6e5f8>"
      ]
     },
     "metadata": {},
     "output_type": "display_data"
    }
   ],
   "source": [
    "# Compute solution of f(x) = 0 by secant's Method \n",
    "_f = lambda x: x**2 - 2*x -10\n",
    "_f_deriv = lambda x: 2*x + 2\n",
    "_xs = np.linspace(-10,10)\n",
    "x_sol0 = secant_method(-5,1,_f)\n",
    "x_sol1 = secant_method(2,1,_f)\n",
    "y_sol0, y_sol1 = 0,0\n",
    "\n",
    "plt.plot(_xs, [_f(x) for x in _xs])\n",
    "plt.plot(x_sol0, y_sol0, x_sol1, y_sol1, marker = 'o')\n",
    "\n",
    "x_sol0, x_sol1"
   ]
  },
  {
   "cell_type": "code",
   "execution_count": 490,
   "metadata": {},
   "outputs": [
    {
     "name": "stdout",
     "output_type": "stream",
     "text": [
      "-2.316624403\n",
      "4.31662464142\n"
     ]
    }
   ],
   "source": [
    "print bisection(_f,{'a':-5,'b':1}, app=10**(-6))\n",
    "print bisection(_f,{'a':1,'b':5}, app=10**(-6))"
   ]
  },
  {
   "cell_type": "markdown",
   "metadata": {},
   "source": [
    "[Back to Index](#Index)"
   ]
  },
  {
   "cell_type": "markdown",
   "metadata": {},
   "source": [
    "## Previous Exams"
   ]
  },
  {
   "cell_type": "markdown",
   "metadata": {},
   "source": [
    "### Fall 2016"
   ]
  },
  {
   "cell_type": "markdown",
   "metadata": {},
   "source": [
    "### 1. Implied Volatility"
   ]
  },
  {
   "cell_type": "code",
   "execution_count": 500,
   "metadata": {},
   "outputs": [
    {
     "name": "stdout",
     "output_type": "stream",
     "text": [
      "0.5\n",
      "0.396915261476\n",
      "0.397048186675\n"
     ]
    },
    {
     "data": {
      "text/plain": [
       "0.39704818680355858"
      ]
     },
     "execution_count": 500,
     "metadata": {},
     "output_type": "execute_result"
    }
   ],
   "source": [
    "T = 3/12\n",
    "S = 30\n",
    "K = 30\n",
    "q = 0.02\n",
    "C = 2.5\n",
    "r = 0.06\n",
    "implied_vol_Newton(C, S, K, T, q, r, tol, 0.5)"
   ]
  },
  {
   "cell_type": "code",
   "execution_count": 506,
   "metadata": {},
   "outputs": [
    {
     "name": "stdout",
     "output_type": "stream",
     "text": [
      "0.25\n",
      "0.748717345111\n",
      "0.727308327532\n",
      "0.727330168841\n"
     ]
    },
    {
     "data": {
      "text/plain": [
       "0.72733016889103708"
      ]
     },
     "execution_count": 506,
     "metadata": {},
     "output_type": "execute_result"
    }
   ],
   "source": [
    "C = 10\n",
    "S = 50\n",
    "K = 55\n",
    "T = 8/12\n",
    "q = 0.008\n",
    "r = 0.02\n",
    "tol = 10**(-10)\n",
    "x0 = 0.25\n",
    "\n",
    "implied_vol_Newton( C, S, K, T, q, r, tol, x0)"
   ]
  },
  {
   "cell_type": "code",
   "execution_count": 551,
   "metadata": {},
   "outputs": [
    {
     "name": "stdout",
     "output_type": "stream",
     "text": [
      "0.25\n",
      "0.763852289133\n",
      "0.752578579712\n",
      "0.752585540546\n"
     ]
    },
    {
     "data": {
      "text/plain": [
       "0.75259"
      ]
     },
     "execution_count": 551,
     "metadata": {},
     "output_type": "execute_result"
    }
   ],
   "source": [
    "# EXAM\n",
    "C = 15\n",
    "S = 70\n",
    "K = 75\n",
    "T = 8/12\n",
    "q = 0.007\n",
    "r = 0.005\n",
    "tol = 10**(-9)\n",
    "x0 = 0.25\n",
    "\n",
    "round(implied_vol_Newton( C, S, K, T, q, r, tol, x0),5)"
   ]
  },
  {
   "cell_type": "code",
   "execution_count": 550,
   "metadata": {},
   "outputs": [
    {
     "name": "stdout",
     "output_type": "stream",
     "text": [
      "0.76385\n",
      "0.75258\n",
      "0.75259\n"
     ]
    }
   ],
   "source": [
    "print round(0.763852289133,5)\n",
    "print round(0.752578579712,5)\n",
    "print round(0.752585540546,5)"
   ]
  },
  {
   "cell_type": "markdown",
   "metadata": {},
   "source": [
    "### 2. Boostrapping"
   ]
  },
  {
   "cell_type": "markdown",
   "metadata": {},
   "source": [
    "TODO"
   ]
  },
  {
   "cell_type": "code",
   "execution_count": 481,
   "metadata": {},
   "outputs": [
    {
     "data": {
      "text/html": [
       "<div>\n",
       "<style>\n",
       "    .dataframe thead tr:only-child th {\n",
       "        text-align: right;\n",
       "    }\n",
       "\n",
       "    .dataframe thead th {\n",
       "        text-align: left;\n",
       "    }\n",
       "\n",
       "    .dataframe tbody tr th {\n",
       "        vertical-align: top;\n",
       "    }\n",
       "</style>\n",
       "<table border=\"1\" class=\"dataframe\">\n",
       "  <thead>\n",
       "    <tr style=\"text-align: right;\">\n",
       "      <th></th>\n",
       "      <th>Maturity_in_months</th>\n",
       "      <th>Coupon_Rate</th>\n",
       "      <th>Price</th>\n",
       "    </tr>\n",
       "  </thead>\n",
       "  <tbody>\n",
       "    <tr>\n",
       "      <th>0</th>\n",
       "      <td>12</td>\n",
       "      <td>5</td>\n",
       "      <td>104</td>\n",
       "    </tr>\n",
       "    <tr>\n",
       "      <th>1</th>\n",
       "      <td>24</td>\n",
       "      <td>0</td>\n",
       "      <td>96</td>\n",
       "    </tr>\n",
       "    <tr>\n",
       "      <th>2</th>\n",
       "      <td>48</td>\n",
       "      <td>9</td>\n",
       "      <td>115</td>\n",
       "    </tr>\n",
       "  </tbody>\n",
       "</table>\n",
       "</div>"
      ],
      "text/plain": [
       "   Maturity_in_months  Coupon_Rate  Price\n",
       "0                  12            5    104\n",
       "1                  24            0     96\n",
       "2                  48            9    115"
      ]
     },
     "execution_count": 481,
     "metadata": {},
     "output_type": "execute_result"
    }
   ],
   "source": [
    "edt =     pd.DataFrame( {'Maturity_in_months' : [12, 24, 48],\n",
    "                        'Coupon_Rate' : [5, 0, 9],\n",
    "                        'Price' : [104, 96, 115]},\n",
    "                     columns = ['Maturity_in_months', 'Coupon_Rate', 'Price'])\n",
    "edt"
   ]
  },
  {
   "cell_type": "code",
   "execution_count": 483,
   "metadata": {
    "collapsed": true
   },
   "outputs": [],
   "source": [
    "overnight = 0.002"
   ]
  },
  {
   "cell_type": "code",
   "execution_count": null,
   "metadata": {
    "collapsed": true
   },
   "outputs": [],
   "source": []
  },
  {
   "cell_type": "markdown",
   "metadata": {},
   "source": [
    "### 3. i Cash flows and discount factors"
   ]
  },
  {
   "cell_type": "code",
   "execution_count": 530,
   "metadata": {
    "collapsed": true
   },
   "outputs": [],
   "source": [
    "def risk_zero_curve(t):\n",
    "    return 0.02 +  (2 + 5*t**2)/(45+550*t**2)\n",
    "\n",
    "def disc(t):\n",
    "    return np.exp(- risk_zero_curve(t)*t)"
   ]
  },
  {
   "cell_type": "code",
   "execution_count": 531,
   "metadata": {
    "collapsed": true
   },
   "outputs": [],
   "source": [
    "#semianual\n",
    "c = 0.08\n",
    "t_cash_flow = [3/12, 9/12, 15/12, 21/12, 27/12]\n",
    "v_cash_flow = get_value_cash_flows(5,c/2) #because semiannual\n",
    "discs = [disc(t) for t in t_cash_flow]\n",
    "n = len(t_cash_flow)"
   ]
  },
  {
   "cell_type": "code",
   "execution_count": 532,
   "metadata": {},
   "outputs": [
    {
     "name": "stdout",
     "output_type": "stream",
     "text": [
      "[0.25, 0.75, 1.25, 1.75, 2.25]\n",
      "[4.0, 4.0, 4.0, 4.0, 104.0]\n",
      "[0.98779166923484707, 0.97512931580404949, 0.96217152557869556, 0.94883631802751267, 0.93545739021717611]\n"
     ]
    }
   ],
   "source": [
    "print t_cash_flow\n",
    "print v_cash_flow\n",
    "print discs"
   ]
  },
  {
   "cell_type": "markdown",
   "metadata": {},
   "source": [
    "### 3.ii Yield  "
   ]
  },
  {
   "cell_type": "code",
   "execution_count": 533,
   "metadata": {
    "scrolled": true
   },
   "outputs": [
    {
     "data": {
      "text/plain": [
       "112.78328389716674"
      ]
     },
     "execution_count": 533,
     "metadata": {},
     "output_type": "execute_result"
    }
   ],
   "source": [
    "B"
   ]
  },
  {
   "cell_type": "code",
   "execution_count": 536,
   "metadata": {},
   "outputs": [
    {
     "name": "stdout",
     "output_type": "stream",
     "text": [
      "0.1\n",
      "0.024153\n",
      "0.029784\n",
      "0.029819\n"
     ]
    },
    {
     "data": {
      "text/plain": [
       "0.029819399122059262"
      ]
     },
     "execution_count": 536,
     "metadata": {},
     "output_type": "execute_result"
    }
   ],
   "source": [
    "B = bond_price(t_cash_flow, v_cash_flow)  \n",
    "y = bond_yield_Newton(B, n, t_cash_flow, v_cash_flow , tol = 10**(-5))\n",
    "y"
   ]
  },
  {
   "cell_type": "markdown",
   "metadata": {},
   "source": [
    "### 3.iii Modified duration, dollar duration, DV01, convexity and dollar convexity "
   ]
  },
  {
   "cell_type": "code",
   "execution_count": 537,
   "metadata": {
    "collapsed": true
   },
   "outputs": [],
   "source": [
    "B,D, convexity = price_duration_convexity(n,t_cash_flow,v_cash_flow, y)"
   ]
  },
  {
   "cell_type": "code",
   "execution_count": 543,
   "metadata": {},
   "outputs": [
    {
     "data": {
      "text/plain": [
       "(112.783284, 2.076571, 4.543501)"
      ]
     },
     "execution_count": 543,
     "metadata": {},
     "output_type": "execute_result"
    }
   ],
   "source": [
    "round(B,6),round(D,6),round(convexity,6)"
   ]
  },
  {
   "cell_type": "code",
   "execution_count": 544,
   "metadata": {},
   "outputs": [
    {
     "data": {
      "text/plain": [
       "234.202548"
      ]
     },
     "execution_count": 544,
     "metadata": {},
     "output_type": "execute_result"
    }
   ],
   "source": [
    "round(B*D,6) # dollar duration"
   ]
  },
  {
   "cell_type": "code",
   "execution_count": 545,
   "metadata": {},
   "outputs": [
    {
     "data": {
      "text/plain": [
       "512.43101063276379"
      ]
     },
     "execution_count": 545,
     "metadata": {},
     "output_type": "execute_result"
    }
   ],
   "source": [
    "B*convexity #dollar convexity"
   ]
  },
  {
   "cell_type": "code",
   "execution_count": 546,
   "metadata": {},
   "outputs": [
    {
     "data": {
      "text/plain": [
       "0.023420254767134382"
      ]
     },
     "execution_count": 546,
     "metadata": {},
     "output_type": "execute_result"
    }
   ],
   "source": [
    "B*D/10000"
   ]
  },
  {
   "cell_type": "code",
   "execution_count": null,
   "metadata": {
    "collapsed": true
   },
   "outputs": [],
   "source": []
  },
  {
   "cell_type": "markdown",
   "metadata": {},
   "source": [
    "### 3.iv Simpson's Rule for discount factors"
   ]
  },
  {
   "cell_type": "code",
   "execution_count": null,
   "metadata": {
    "collapsed": true
   },
   "outputs": [],
   "source": []
  },
  {
   "cell_type": "markdown",
   "metadata": {},
   "source": [
    "## Miscelanea"
   ]
  },
  {
   "cell_type": "code",
   "execution_count": 263,
   "metadata": {},
   "outputs": [
    {
     "name": "stdout",
     "output_type": "stream",
     "text": [
      "Solutions:\n",
      "[ -50. -450.   25.]\n"
     ]
    }
   ],
   "source": [
    "# Define a matrix with x1, x2, x3 and \n",
    "A = np.array([[1, 0.3, -0.6],\n",
    "              [0, 0.15, 0.3],\n",
    "              [0, 0.12, 0.16]]) \n",
    "\n",
    "#define matrix B with the require hedging portfolio Delta, Gamma and Vega\n",
    "B = np.array([-200, -60, -50]) \n",
    "\n",
    "# linalg.solve is the function of NumPy to solve a system of linear scalar equations\n",
    "print \"Solutions:\\n\",np.linalg.solve(A, B ) "
   ]
  },
  {
   "cell_type": "code",
   "execution_count": 494,
   "metadata": {
    "collapsed": true
   },
   "outputs": [],
   "source": [
    "def bsm_vega(S0, K, T, r, q,  sigma):\n",
    "    ''' Vega of European option in BSM model.\n",
    "    \n",
    "    Parameters\n",
    "    ==========\n",
    "    S0 : float\n",
    "        initial stock/index level\n",
    "    K : float\n",
    "        strike price\n",
    "    T : float\n",
    "        maturity date (in year fractions)\n",
    "    r : float\n",
    "        constant risk-free short rate\n",
    "    sigma : float\n",
    "        volatility factor in diffusion term\n",
    "    \n",
    "    Returns\n",
    "    =======\n",
    "    vega : float\n",
    "        partial derivative of BSM formula with respect\n",
    "        to sigma, i.e. Vega\n",
    "    '''\n",
    "    from math import log, sqrt\n",
    "    from scipy import stats\n",
    "\n",
    "    S0 = float(S0)\n",
    "    d1 = (log(S0 / K) + ((r - q) + 0.5 * sigma ** 2) * T) / (sigma * sqrt(T))\n",
    "    vega = S0 * np.exp(-q*T) * stats.norm.pdf(d1, 0.0, 1.0) * sqrt(T)\n",
    "    return vega"
   ]
  },
  {
   "cell_type": "markdown",
   "metadata": {},
   "source": [
    "$ \\Delta_c = \\dfrac{V(S+dS)-V(S-dS) } {2dS}$\n",
    "\n",
    "$\\Gamma_c = \\dfrac{V(S+dS)- 2V(S) + V(S-dS) } {(dS)^2}$\n",
    "\n",
    "$\\Theta_f = \\dfrac{V(T-dt) - V(T)} {dt} $"
   ]
  },
  {
   "cell_type": "code",
   "execution_count": 265,
   "metadata": {
    "collapsed": true
   },
   "outputs": [],
   "source": [
    "def ThetaFinDiffApprxF(vt_m,vt,dt):\n",
    "    return (vt_m-vt) / dt "
   ]
  },
  {
   "cell_type": "code",
   "execution_count": 266,
   "metadata": {
    "collapsed": true
   },
   "outputs": [],
   "source": [
    "def relative_error(C_BS, C_approx):\n",
    "    return np.abs(C_BS - C_approx) / C_BS\n"
   ]
  }
 ],
 "metadata": {
  "kernelspec": {
   "display_name": "Python 2",
   "language": "python",
   "name": "python2"
  },
  "language_info": {
   "codemirror_mode": {
    "name": "ipython",
    "version": 2
   },
   "file_extension": ".py",
   "mimetype": "text/x-python",
   "name": "python",
   "nbconvert_exporter": "python",
   "pygments_lexer": "ipython2",
   "version": "2.7.13"
  }
 },
 "nbformat": 4,
 "nbformat_minor": 2
}
